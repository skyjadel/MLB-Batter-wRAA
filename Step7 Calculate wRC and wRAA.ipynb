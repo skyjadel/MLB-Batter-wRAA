{
 "cells": [
  {
   "cell_type": "markdown",
   "id": "49550471",
   "metadata": {
    "toc": true
   },
   "source": [
    "<h1>Table of Contents<span class=\"tocSkip\"></span></h1>\n",
    "<div class=\"toc\"><ul class=\"toc-item\"></ul></div>"
   ]
  },
  {
   "cell_type": "code",
   "execution_count": 1,
   "id": "4ad47b16",
   "metadata": {
    "ExecuteTime": {
     "end_time": "2024-03-19T02:30:18.907208Z",
     "start_time": "2024-03-19T02:30:18.358047Z"
    }
   },
   "outputs": [],
   "source": [
    "import pandas as pd\n",
    "import numpy as np\n",
    "import matplotlib.pyplot as plt"
   ]
  },
  {
   "cell_type": "code",
   "execution_count": 2,
   "id": "faf30dfd",
   "metadata": {
    "ExecuteTime": {
     "end_time": "2024-03-19T02:30:19.724550Z",
     "start_time": "2024-03-19T02:30:19.708923Z"
    }
   },
   "outputs": [],
   "source": [
    "wOBA_to_run_scale = 0.639\n",
    "years = [*range(2017, 2024)]\n",
    "player_type = 'batter'\n",
    "\n",
    "player_data_path = 'MLB_Player_Stats_CSV\\\\'"
   ]
  },
  {
   "cell_type": "code",
   "execution_count": 3,
   "id": "8a0b49d5",
   "metadata": {
    "ExecuteTime": {
     "end_time": "2024-03-19T02:30:20.858671Z",
     "start_time": "2024-03-19T02:30:20.292922Z"
    }
   },
   "outputs": [
    {
     "name": "stdout",
     "output_type": "stream",
     "text": [
      "{2017: 0.3205789504962263, 2018: 0.3143346094490321, 2019: 0.31959341621244286, 2020: 0.3197826558265583, 2021: 0.31403505539114807, 2022: 0.3097617101454049, 2023: 0.31837260323081784}\n"
     ]
    }
   ],
   "source": [
    "league_woba_dict = {}\n",
    "for yr in years:\n",
    "    csv_filename = f'{player_data_path}{yr}_{player_type}_arranged_V3.csv'\n",
    "    this_df = pd.read_csv(csv_filename)\n",
    "    this_df = this_df.drop('Unnamed: 0', axis=1)\n",
    "    \n",
    "    league_pa = sum(this_df['pa'])\n",
    "    if player_type == 'batter':\n",
    "        league_run = sum(this_df['r_run'])\n",
    "    elif player_type == 'pitcher':\n",
    "        league_run = sum(this_df['p_run'])\n",
    "    league_woba = sum(this_df['pa'] * this_df['woba']) / league_pa\n",
    "    league_woba_dict[yr] = league_woba\n",
    "    \n",
    "    wRC = ((this_df['woba'] - league_woba) * wOBA_to_run_scale + league_run / league_pa) * this_df['pa']\n",
    "    this_df.insert(loc=this_df.shape[1] ,column='wRC', value=wRC)\n",
    "    \n",
    "    wRAA = (this_df['woba'] - league_woba) * wOBA_to_run_scale * this_df['pa']\n",
    "    this_df.insert(loc=this_df.shape[1] ,column='wRAA', value=wRAA)\n",
    "    \n",
    "    this_df.to_csv(f'{player_data_path}{yr}_{player_type}_arranged_V4.csv', index=False)\n",
    "print(league_woba_dict)"
   ]
  },
  {
   "cell_type": "code",
   "execution_count": 4,
   "id": "acd62f69",
   "metadata": {
    "ExecuteTime": {
     "end_time": "2024-03-19T02:30:57.972114Z",
     "start_time": "2024-03-19T02:30:57.956482Z"
    }
   },
   "outputs": [],
   "source": [
    "old_dict = {2017: 0.3212199297439122,\n",
    "            2018: 0.314968461609325,\n",
    "            2019: 0.3201466809306728,\n",
    "            2020: 0.31977335900367015,\n",
    "            2021: 0.3146780831369257,\n",
    "            2022: 0.30985017948337346,\n",
    "            2023: 0.31843202212191113}\n",
    "new_dict = {2017: 0.3205789504962263,\n",
    "            2018: 0.3143346094490321,\n",
    "            2019: 0.31959341621244286,\n",
    "            2020: 0.3197826558265583,\n",
    "            2021: 0.31403505539114807,\n",
    "            2022: 0.3097617101454049,\n",
    "            2023: 0.31837260323081784}\n"
   ]
  },
  {
   "cell_type": "code",
   "execution_count": null,
   "id": "ea68a572",
   "metadata": {},
   "outputs": [],
   "source": []
  }
 ],
 "metadata": {
  "kernelspec": {
   "display_name": "Python 3 (ipykernel)",
   "language": "python",
   "name": "python3"
  },
  "language_info": {
   "codemirror_mode": {
    "name": "ipython",
    "version": 3
   },
   "file_extension": ".py",
   "mimetype": "text/x-python",
   "name": "python",
   "nbconvert_exporter": "python",
   "pygments_lexer": "ipython3",
   "version": "3.8.16"
  },
  "toc": {
   "base_numbering": 1,
   "nav_menu": {},
   "number_sections": true,
   "sideBar": true,
   "skip_h1_title": true,
   "title_cell": "Table of Contents",
   "title_sidebar": "Contents",
   "toc_cell": true,
   "toc_position": {},
   "toc_section_display": true,
   "toc_window_display": true
  },
  "varInspector": {
   "cols": {
    "lenName": 16,
    "lenType": 16,
    "lenVar": 40
   },
   "kernels_config": {
    "python": {
     "delete_cmd_postfix": "",
     "delete_cmd_prefix": "del ",
     "library": "var_list.py",
     "varRefreshCmd": "print(var_dic_list())"
    },
    "r": {
     "delete_cmd_postfix": ") ",
     "delete_cmd_prefix": "rm(",
     "library": "var_list.r",
     "varRefreshCmd": "cat(var_dic_list()) "
    }
   },
   "types_to_exclude": [
    "module",
    "function",
    "builtin_function_or_method",
    "instance",
    "_Feature"
   ],
   "window_display": false
  }
 },
 "nbformat": 4,
 "nbformat_minor": 5
}

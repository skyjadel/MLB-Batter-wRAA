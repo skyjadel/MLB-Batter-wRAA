{
 "cells": [
  {
   "cell_type": "markdown",
   "id": "8c38e047",
   "metadata": {
    "toc": true
   },
   "source": [
    "<h1>Table of Contents<span class=\"tocSkip\"></span></h1>\n",
    "<div class=\"toc\"><ul class=\"toc-item\"><li><span><a href=\"#弄一個-Class-把跟-Pitcher-Arsenal-有關的放在這邊\" data-toc-modified-id=\"弄一個-Class-把跟-Pitcher-Arsenal-有關的放在這邊-1\"><span class=\"toc-item-num\">1&nbsp;&nbsp;</span>弄一個 Class 把跟 Pitcher Arsenal 有關的放在這邊</a></span></li></ul></div>"
   ]
  },
  {
   "cell_type": "code",
   "execution_count": 1,
   "id": "75acd6f1",
   "metadata": {
    "ExecuteTime": {
     "end_time": "2024-03-17T16:35:15.095345Z",
     "start_time": "2024-03-17T16:35:14.860251Z"
    }
   },
   "outputs": [],
   "source": [
    "import pandas as pd\n",
    "import numpy as np"
   ]
  },
  {
   "cell_type": "code",
   "execution_count": 2,
   "id": "4c5726dc",
   "metadata": {
    "ExecuteTime": {
     "end_time": "2024-03-17T16:35:15.110982Z",
     "start_time": "2024-03-17T16:35:15.095345Z"
    }
   },
   "outputs": [],
   "source": [
    "csv_file_path = 'MLB_Player_Stats_CSV\\\\'"
   ]
  },
  {
   "cell_type": "code",
   "execution_count": 3,
   "id": "d1d8eaf3",
   "metadata": {
    "ExecuteTime": {
     "end_time": "2024-03-17T16:35:15.126595Z",
     "start_time": "2024-03-17T16:35:15.110982Z"
    }
   },
   "outputs": [],
   "source": [
    "league_abb_dict = {'NL':['WSH', 'ATL', 'MIA', 'NYM', 'PHI', 'CHC', 'STL', 'PIT',\n",
    "                         'CIN', 'MIL', 'COL', 'LAD', 'AZ', 'SF', 'SD'],\n",
    "                   'AL':['NYY', 'TB', 'TOR', 'BOS', 'BAL', 'DET', 'CWS', 'CLE',\n",
    "                         'MIN', 'KC', 'LAA', 'SEA', 'OAK', 'TEX', 'HOU']}"
   ]
  },
  {
   "cell_type": "markdown",
   "id": "57e73303",
   "metadata": {},
   "source": [
    "### 弄一個 Class 把跟 Pitcher Arsenal 有關的放在這邊"
   ]
  },
  {
   "cell_type": "code",
   "execution_count": 4,
   "id": "c847390f",
   "metadata": {
    "ExecuteTime": {
     "end_time": "2024-03-17T16:35:15.142221Z",
     "start_time": "2024-03-17T16:35:15.126595Z"
    }
   },
   "outputs": [],
   "source": [
    "#----Process Pitcher Arsenal Data\n",
    "class Pitcher_Arsenal:\n",
    "    def __init__(self, year, player_type):\n",
    "        self.year = year\n",
    "        self.player_type = player_type\n",
    "        csv_file_name = f'{csv_file_path}{self.year}{self.player_type}_pitcher_arsenal.csv'\n",
    "        self.df = pd.read_csv(csv_file_name)\n",
    "    \n",
    "    def select_given_player(self, player_id):\n",
    "        self.df_this_player = self.df[self.df.player_id.eq(player_id)]\n",
    "    \n",
    "    def woba_simple_static(self, player_id ,weighting = 'pitches'):\n",
    "        self.select_given_player(player_id)\n",
    "        wobas = np.array(self.df_this_player['woba'])\n",
    "        if weighting == 'uniform':\n",
    "            mean_woba = np.nanmean(wobas)\n",
    "            std_woba = np.nanstd(wobas)\n",
    "        else:\n",
    "            weights = np.array(self.df_this_player[weighting])\n",
    "            weights[np.isnan(wobas)] = 0\n",
    "            if sum(weights) > 0:\n",
    "                mean_woba = np.average(wobas, weights = weights)\n",
    "                std_woba = np.sqrt(np.sum((wobas - mean_woba)**2 * weights) / np.sum(weights))\n",
    "            else:\n",
    "                mean_woba = np.nanmean(wobas)\n",
    "                std_woba = np.nanstd(wobas)\n",
    "            \n",
    "        return mean_woba, std_woba\n",
    "    \n",
    "    def get_team_abb(self, player_id):\n",
    "        self.select_given_player(player_id)\n",
    "        abb_dict = {}\n",
    "        for i in range(len(self.df_this_player)):\n",
    "            this_abb = self.df_this_player['team_name_alt'].iloc[i]\n",
    "            this_pa = self.df_this_player['pa'].iloc[i]\n",
    "            if this_abb in abb_dict.keys():\n",
    "                abb_dict[this_abb] += this_pa\n",
    "            else:\n",
    "                abb_dict[this_abb] = this_pa\n",
    "        return abb_dict\n",
    "    \n",
    "    def get_isDH(self, player_id):\n",
    "        if self.year >= 2022:\n",
    "            return True\n",
    "        abb_dict = self.get_team_abb(player_id)\n",
    "        AL_pa = 0\n",
    "        NL_pa = 0\n",
    "        for abb in abb_dict.keys():\n",
    "            if abb in league_abb_dict['NL']:\n",
    "                NL_pa += abb_dict[abb]\n",
    "            if abb in league_abb_dict['AL']:\n",
    "                AL_pa += abb_dict[abb]\n",
    "        if AL_pa > NL_pa:\n",
    "            return True\n",
    "        return False"
   ]
  },
  {
   "cell_type": "code",
   "execution_count": 5,
   "id": "8e14a230",
   "metadata": {
    "ExecuteTime": {
     "end_time": "2024-03-17T16:35:15.173471Z",
     "start_time": "2024-03-17T16:35:15.142221Z"
    }
   },
   "outputs": [],
   "source": [
    "PA = Pitcher_Arsenal(2022,'batter')"
   ]
  },
  {
   "cell_type": "code",
   "execution_count": 6,
   "id": "b70edf18",
   "metadata": {
    "ExecuteTime": {
     "end_time": "2024-03-17T16:35:15.189486Z",
     "start_time": "2024-03-17T16:35:15.173471Z"
    }
   },
   "outputs": [
    {
     "data": {
      "text/plain": [
       "True"
      ]
     },
     "execution_count": 6,
     "metadata": {},
     "output_type": "execute_result"
    }
   ],
   "source": [
    "PA.get_isDH(543243)"
   ]
  },
  {
   "cell_type": "code",
   "execution_count": 7,
   "id": "5c5c85cb",
   "metadata": {
    "ExecuteTime": {
     "end_time": "2024-03-17T16:35:15.220745Z",
     "start_time": "2024-03-17T16:35:15.189486Z"
    }
   },
   "outputs": [],
   "source": [
    "#-------------------Load Useful Columns---------------------\n",
    "def find_indices(list_to_check, item_to_find):\n",
    "    indices = []\n",
    "    for idx, value in enumerate(list_to_check):\n",
    "        if value == item_to_find:\n",
    "            indices.append(idx)\n",
    "    return indices\n",
    "\n",
    "def get_column_list(player_type):\n",
    "    column_name_filename = '欄位分析.xlsx'\n",
    "    df0 = pd.read_excel(column_name_filename, sheet_name = player_type)\n",
    "    #print(df0.shape)\n",
    "    Dict_mark = {df0['欄位名'][i]:df0['Mark'][i] for i in range(df0.shape[0])}\n",
    "    VA = {df0['欄位名'][i]:df0['變數一'][i] for i in range(df0.shape[0])}\n",
    "    VB = {df0['欄位名'][i]:df0['變數二'][i] for i in range(df0.shape[0])}\n",
    "    Operator = {df0['欄位名'][i]:df0['運算子'][i] for i in range(df0.shape[0])}\n",
    "    col_list_a = [list(Dict_mark.keys())[i] for i in find_indices(list(Dict_mark.values()), 'A')]\n",
    "    col_list_a2 = [list(Dict_mark.keys())[i] for i in find_indices(list(Dict_mark.values()), 'A2')]\n",
    "    col_list_f = [list(Dict_mark.keys())[i] for i in find_indices(list(Dict_mark.values()), 'F')]\n",
    "    col_list_e = [list(Dict_mark.keys())[i] for i in find_indices(list(Dict_mark.values()), 'E')]\n",
    "    col_list_g = [list(Dict_mark.keys())[i] for i in find_indices(list(Dict_mark.values()), 'G')]\n",
    "    col_list_y = [list(Dict_mark.keys())[i] for i in find_indices(list(Dict_mark.values()), 'y')]\n",
    "    col_dict_derived = {col:{'VA':VA[col], 'VB':VB[col], 'Operator':Operator[col]} \n",
    "                        for col in col_list_g + col_list_e}\n",
    "    col_list = {'col_list_a':col_list_a, 'col_list_a2':col_list_a2, 'col_list_f':col_list_f,\n",
    "               'col_dict_derived':col_dict_derived, 'col_list_y':col_list_y}\n",
    "    return col_list"
   ]
  },
  {
   "cell_type": "code",
   "execution_count": 8,
   "id": "d17e9b8d",
   "metadata": {
    "ExecuteTime": {
     "end_time": "2024-03-17T16:35:15.236370Z",
     "start_time": "2024-03-17T16:35:15.220745Z"
    }
   },
   "outputs": [],
   "source": [
    "def convert_single_year(year, player_type):\n",
    "    import copy\n",
    "    csv_file_name = f'{csv_file_path}{year}{player_type}.csv'\n",
    "    read_df = pd.read_csv(csv_file_name)\n",
    "    direct_col_list = col_list_f + col_list_a + col_list_a2\n",
    "    dcl = copy.deepcopy(direct_col_list)\n",
    "    none_col_list = []\n",
    "    if player_type == 'pitcher':\n",
    "        for i in dcl:\n",
    "            if not i in list(read_df.columns):\n",
    "                direct_col_list.remove(i)\n",
    "                none_col_list.append(i)\n",
    "    \n",
    "    this_df = read_df[direct_col_list]\n",
    "    for i in none_col_list:\n",
    "        this_df.insert(this_df.shape[1], i, None)\n",
    "    for col in col_dict_derived:\n",
    "        this_VA_name = col_dict_derived[col]['VA']\n",
    "        this_VB_name = col_dict_derived[col]['VB']\n",
    "        this_Operator = col_dict_derived[col]['Operator']\n",
    "        if this_VA_name in list(read_df.columns):\n",
    "            this_VA = read_df[this_VA_name]\n",
    "        else:\n",
    "            this_VA = this_df[this_VA_name]\n",
    "        if this_VB_name in list(read_df.columns):\n",
    "            this_VB = read_df[this_VB_name]\n",
    "        else:\n",
    "            this_VB = this_df[this_VB_name]\n",
    "        if this_Operator == '+':\n",
    "            this_df.insert(this_df.shape[1], col, this_VA + this_VB)\n",
    "        elif this_Operator == '/':\n",
    "            this_df.insert(this_df.shape[1], col, this_VA / this_VB *100)\n",
    "        else:\n",
    "            print('The operator is wrong.')\n",
    "            \n",
    "    PA = Pitcher_Arsenal(year, player_type)\n",
    "    player_ids = list(this_df['player_id'])\n",
    "    woba_stds = []\n",
    "    isDH = []\n",
    "    for player_id in player_ids:\n",
    "        a, b = PA.woba_simple_static(player_id)\n",
    "        woba_stds.append(b/a)\n",
    "        if PA.get_isDH(player_id):\n",
    "            isDH.append(1)\n",
    "        else:\n",
    "            isDH.append(0)\n",
    "    this_df.insert(this_df.shape[1], column = \"woba_std\", value = woba_stds)\n",
    "    this_df.insert(this_df.shape[1], column = \"isDH\", value = isDH)\n",
    "#     if year >= 2019:\n",
    "#         PA = Pitcher_Arsenal(year, player_type)\n",
    "#         player_ids = list(this_df['player_id'])\n",
    "#         woba_stds = []\n",
    "#         for player_id in player_ids:\n",
    "#             a, b = PA.woba_simple_static(player_id)\n",
    "#             woba_stds.append(b/a)\n",
    "#         this_df.insert(this_df.shape[1], column = \"woba_std\", value = woba_stds)\n",
    "#     else:\n",
    "#         this_df.insert(this_df.shape[1], column = \"woba_std\", value = None)\n",
    "    for i in col_list_y:\n",
    "        this_df.insert(this_df.shape[1], i, read_df[i])\n",
    "    \n",
    "    if player_type == 'pitcher':\n",
    "        this_df = this_df.rename(columns={'p_total_pa': 'pa'})\n",
    "    return this_df"
   ]
  },
  {
   "cell_type": "code",
   "execution_count": 9,
   "id": "b40204de",
   "metadata": {
    "ExecuteTime": {
     "end_time": "2024-03-17T16:35:22.576642Z",
     "start_time": "2024-03-17T16:35:15.236370Z"
    }
   },
   "outputs": [
    {
     "name": "stderr",
     "output_type": "stream",
     "text": [
      "C:\\Users\\skyja\\AppData\\Local\\Temp\\ipykernel_36808\\2276847684.py:42: RuntimeWarning: invalid value encountered in double_scalars\n",
      "  woba_stds.append(b/a)\n",
      "C:\\Users\\skyja\\AppData\\Local\\Temp\\ipykernel_36808\\2699739637.py:25: RuntimeWarning: Mean of empty slice\n",
      "  mean_woba = np.nanmean(wobas)\n",
      "C:\\Users\\skyja\\anaconda3\\envs\\ink\\lib\\site-packages\\numpy\\lib\\nanfunctions.py:1878: RuntimeWarning: Degrees of freedom <= 0 for slice.\n",
      "  var = nanvar(a, axis=axis, dtype=dtype, out=out, ddof=ddof,\n",
      "C:\\Users\\skyja\\AppData\\Local\\Temp\\ipykernel_36808\\2276847684.py:42: RuntimeWarning: invalid value encountered in double_scalars\n",
      "  woba_stds.append(b/a)\n",
      "C:\\Users\\skyja\\AppData\\Local\\Temp\\ipykernel_36808\\2699739637.py:25: RuntimeWarning: Mean of empty slice\n",
      "  mean_woba = np.nanmean(wobas)\n",
      "C:\\Users\\skyja\\anaconda3\\envs\\ink\\lib\\site-packages\\numpy\\lib\\nanfunctions.py:1878: RuntimeWarning: Degrees of freedom <= 0 for slice.\n",
      "  var = nanvar(a, axis=axis, dtype=dtype, out=out, ddof=ddof,\n",
      "C:\\Users\\skyja\\AppData\\Local\\Temp\\ipykernel_36808\\2276847684.py:42: RuntimeWarning: invalid value encountered in double_scalars\n",
      "  woba_stds.append(b/a)\n",
      "C:\\Users\\skyja\\AppData\\Local\\Temp\\ipykernel_36808\\2699739637.py:25: RuntimeWarning: Mean of empty slice\n",
      "  mean_woba = np.nanmean(wobas)\n",
      "C:\\Users\\skyja\\anaconda3\\envs\\ink\\lib\\site-packages\\numpy\\lib\\nanfunctions.py:1878: RuntimeWarning: Degrees of freedom <= 0 for slice.\n",
      "  var = nanvar(a, axis=axis, dtype=dtype, out=out, ddof=ddof,\n",
      "C:\\Users\\skyja\\AppData\\Local\\Temp\\ipykernel_36808\\2276847684.py:42: RuntimeWarning: invalid value encountered in double_scalars\n",
      "  woba_stds.append(b/a)\n",
      "C:\\Users\\skyja\\AppData\\Local\\Temp\\ipykernel_36808\\2276847684.py:42: RuntimeWarning: invalid value encountered in double_scalars\n",
      "  woba_stds.append(b/a)\n",
      "C:\\Users\\skyja\\AppData\\Local\\Temp\\ipykernel_36808\\2699739637.py:25: RuntimeWarning: Mean of empty slice\n",
      "  mean_woba = np.nanmean(wobas)\n",
      "C:\\Users\\skyja\\anaconda3\\envs\\ink\\lib\\site-packages\\numpy\\lib\\nanfunctions.py:1878: RuntimeWarning: Degrees of freedom <= 0 for slice.\n",
      "  var = nanvar(a, axis=axis, dtype=dtype, out=out, ddof=ddof,\n",
      "C:\\Users\\skyja\\AppData\\Local\\Temp\\ipykernel_36808\\2699739637.py:25: RuntimeWarning: Mean of empty slice\n",
      "  mean_woba = np.nanmean(wobas)\n",
      "C:\\Users\\skyja\\anaconda3\\envs\\ink\\lib\\site-packages\\numpy\\lib\\nanfunctions.py:1878: RuntimeWarning: Degrees of freedom <= 0 for slice.\n",
      "  var = nanvar(a, axis=axis, dtype=dtype, out=out, ddof=ddof,\n",
      "C:\\Users\\skyja\\AppData\\Local\\Temp\\ipykernel_36808\\2276847684.py:42: RuntimeWarning: invalid value encountered in double_scalars\n",
      "  woba_stds.append(b/a)\n",
      "C:\\Users\\skyja\\AppData\\Local\\Temp\\ipykernel_36808\\2276847684.py:42: RuntimeWarning: invalid value encountered in double_scalars\n",
      "  woba_stds.append(b/a)\n",
      "C:\\Users\\skyja\\AppData\\Local\\Temp\\ipykernel_36808\\2699739637.py:25: RuntimeWarning: Mean of empty slice\n",
      "  mean_woba = np.nanmean(wobas)\n",
      "C:\\Users\\skyja\\anaconda3\\envs\\ink\\lib\\site-packages\\numpy\\lib\\nanfunctions.py:1878: RuntimeWarning: Degrees of freedom <= 0 for slice.\n",
      "  var = nanvar(a, axis=axis, dtype=dtype, out=out, ddof=ddof,\n",
      "C:\\Users\\skyja\\AppData\\Local\\Temp\\ipykernel_36808\\2276847684.py:42: RuntimeWarning: invalid value encountered in double_scalars\n",
      "  woba_stds.append(b/a)\n",
      "C:\\Users\\skyja\\AppData\\Local\\Temp\\ipykernel_36808\\2699739637.py:25: RuntimeWarning: Mean of empty slice\n",
      "  mean_woba = np.nanmean(wobas)\n",
      "C:\\Users\\skyja\\anaconda3\\envs\\ink\\lib\\site-packages\\numpy\\lib\\nanfunctions.py:1878: RuntimeWarning: Degrees of freedom <= 0 for slice.\n",
      "  var = nanvar(a, axis=axis, dtype=dtype, out=out, ddof=ddof,\n",
      "C:\\Users\\skyja\\AppData\\Local\\Temp\\ipykernel_36808\\2276847684.py:42: RuntimeWarning: invalid value encountered in double_scalars\n",
      "  woba_stds.append(b/a)\n",
      "C:\\Users\\skyja\\AppData\\Local\\Temp\\ipykernel_36808\\2699739637.py:25: RuntimeWarning: Mean of empty slice\n",
      "  mean_woba = np.nanmean(wobas)\n",
      "C:\\Users\\skyja\\anaconda3\\envs\\ink\\lib\\site-packages\\numpy\\lib\\nanfunctions.py:1878: RuntimeWarning: Degrees of freedom <= 0 for slice.\n",
      "  var = nanvar(a, axis=axis, dtype=dtype, out=out, ddof=ddof,\n",
      "C:\\Users\\skyja\\AppData\\Local\\Temp\\ipykernel_36808\\2276847684.py:42: RuntimeWarning: invalid value encountered in double_scalars\n",
      "  woba_stds.append(b/a)\n",
      "C:\\Users\\skyja\\AppData\\Local\\Temp\\ipykernel_36808\\2699739637.py:25: RuntimeWarning: Mean of empty slice\n",
      "  mean_woba = np.nanmean(wobas)\n",
      "C:\\Users\\skyja\\anaconda3\\envs\\ink\\lib\\site-packages\\numpy\\lib\\nanfunctions.py:1878: RuntimeWarning: Degrees of freedom <= 0 for slice.\n",
      "  var = nanvar(a, axis=axis, dtype=dtype, out=out, ddof=ddof,\n",
      "C:\\Users\\skyja\\AppData\\Local\\Temp\\ipykernel_36808\\2276847684.py:42: RuntimeWarning: invalid value encountered in double_scalars\n",
      "  woba_stds.append(b/a)\n",
      "C:\\Users\\skyja\\AppData\\Local\\Temp\\ipykernel_36808\\2276847684.py:42: RuntimeWarning: invalid value encountered in double_scalars\n",
      "  woba_stds.append(b/a)\n",
      "C:\\Users\\skyja\\AppData\\Local\\Temp\\ipykernel_36808\\2699739637.py:25: RuntimeWarning: Mean of empty slice\n",
      "  mean_woba = np.nanmean(wobas)\n",
      "C:\\Users\\skyja\\anaconda3\\envs\\ink\\lib\\site-packages\\numpy\\lib\\nanfunctions.py:1878: RuntimeWarning: Degrees of freedom <= 0 for slice.\n",
      "  var = nanvar(a, axis=axis, dtype=dtype, out=out, ddof=ddof,\n",
      "C:\\Users\\skyja\\AppData\\Local\\Temp\\ipykernel_36808\\2699739637.py:25: RuntimeWarning: Mean of empty slice\n",
      "  mean_woba = np.nanmean(wobas)\n",
      "C:\\Users\\skyja\\anaconda3\\envs\\ink\\lib\\site-packages\\numpy\\lib\\nanfunctions.py:1878: RuntimeWarning: Degrees of freedom <= 0 for slice.\n",
      "  var = nanvar(a, axis=axis, dtype=dtype, out=out, ddof=ddof,\n",
      "C:\\Users\\skyja\\AppData\\Local\\Temp\\ipykernel_36808\\2276847684.py:42: RuntimeWarning: invalid value encountered in double_scalars\n",
      "  woba_stds.append(b/a)\n",
      "C:\\Users\\skyja\\AppData\\Local\\Temp\\ipykernel_36808\\2276847684.py:42: RuntimeWarning: invalid value encountered in double_scalars\n",
      "  woba_stds.append(b/a)\n",
      "C:\\Users\\skyja\\AppData\\Local\\Temp\\ipykernel_36808\\2699739637.py:25: RuntimeWarning: Mean of empty slice\n",
      "  mean_woba = np.nanmean(wobas)\n",
      "C:\\Users\\skyja\\anaconda3\\envs\\ink\\lib\\site-packages\\numpy\\lib\\nanfunctions.py:1878: RuntimeWarning: Degrees of freedom <= 0 for slice.\n",
      "  var = nanvar(a, axis=axis, dtype=dtype, out=out, ddof=ddof,\n"
     ]
    }
   ],
   "source": [
    "for player_type in ['batter', 'pitcher']:\n",
    "#for player_type in ['batter',]:\n",
    "    col_list = get_column_list(player_type)\n",
    "    col_list_y = col_list['col_list_y']\n",
    "    col_list_f = col_list['col_list_f']\n",
    "    col_list_a = col_list['col_list_a']\n",
    "    col_list_a2 = col_list['col_list_a2']\n",
    "    col_dict_derived = col_list['col_dict_derived']\n",
    "    for year in range(2017, 2024):\n",
    "        this_df = convert_single_year(year, player_type)\n",
    "        this_df.to_csv(f'{csv_file_path}{year}_{player_type}_arranged.csv', index=False)"
   ]
  },
  {
   "cell_type": "code",
   "execution_count": null,
   "id": "356d53da",
   "metadata": {},
   "outputs": [],
   "source": []
  }
 ],
 "metadata": {
  "kernelspec": {
   "display_name": "Python 3 (ipykernel)",
   "language": "python",
   "name": "python3"
  },
  "language_info": {
   "codemirror_mode": {
    "name": "ipython",
    "version": 3
   },
   "file_extension": ".py",
   "mimetype": "text/x-python",
   "name": "python",
   "nbconvert_exporter": "python",
   "pygments_lexer": "ipython3",
   "version": "3.8.16"
  },
  "toc": {
   "base_numbering": 1,
   "nav_menu": {},
   "number_sections": true,
   "sideBar": true,
   "skip_h1_title": true,
   "title_cell": "Table of Contents",
   "title_sidebar": "Contents",
   "toc_cell": true,
   "toc_position": {},
   "toc_section_display": true,
   "toc_window_display": true
  },
  "varInspector": {
   "cols": {
    "lenName": 16,
    "lenType": 16,
    "lenVar": 40
   },
   "kernels_config": {
    "python": {
     "delete_cmd_postfix": "",
     "delete_cmd_prefix": "del ",
     "library": "var_list.py",
     "varRefreshCmd": "print(var_dic_list())"
    },
    "r": {
     "delete_cmd_postfix": ") ",
     "delete_cmd_prefix": "rm(",
     "library": "var_list.r",
     "varRefreshCmd": "cat(var_dic_list()) "
    }
   },
   "types_to_exclude": [
    "module",
    "function",
    "builtin_function_or_method",
    "instance",
    "_Feature"
   ],
   "window_display": false
  }
 },
 "nbformat": 4,
 "nbformat_minor": 5
}

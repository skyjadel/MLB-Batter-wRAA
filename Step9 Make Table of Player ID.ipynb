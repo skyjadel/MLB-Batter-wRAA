{
 "cells": [
  {
   "cell_type": "markdown",
   "id": "924d2557",
   "metadata": {
    "toc": true
   },
   "source": [
    "<h1>Table of Contents<span class=\"tocSkip\"></span></h1>\n",
    "<div class=\"toc\"><ul class=\"toc-item\"></ul></div>"
   ]
  },
  {
   "cell_type": "code",
   "execution_count": 1,
   "id": "f3b8c855",
   "metadata": {
    "ExecuteTime": {
     "end_time": "2024-03-17T15:20:15.702127Z",
     "start_time": "2024-03-17T15:20:15.466950Z"
    }
   },
   "outputs": [],
   "source": [
    "import pandas as pd\n",
    "import os"
   ]
  },
  {
   "cell_type": "code",
   "execution_count": 2,
   "id": "bd1859b4",
   "metadata": {
    "ExecuteTime": {
     "end_time": "2024-03-17T15:20:15.717756Z",
     "start_time": "2024-03-17T15:20:15.702127Z"
    }
   },
   "outputs": [],
   "source": [
    "csv_path = 'MLB_Player_Stats_CSV/'\n",
    "raw_fns = os.listdir(csv_path)\n",
    "filenames = [fn for fn in raw_fns if '_arranged.csv' in fn]"
   ]
  },
  {
   "cell_type": "code",
   "execution_count": 3,
   "id": "d18c4840",
   "metadata": {
    "ExecuteTime": {
     "end_time": "2024-03-17T15:20:15.733379Z",
     "start_time": "2024-03-17T15:20:15.717756Z"
    }
   },
   "outputs": [],
   "source": [
    "def player_name_convert(name):\n",
    "    if len(name.split(',')[1].split(' ')) > 2:\n",
    "        return name.split(',')[0] + ', ' + name.split(',')[1].split(' ')[-1]\n",
    "    else:\n",
    "        return name"
   ]
  },
  {
   "cell_type": "code",
   "execution_count": 4,
   "id": "31b58c81",
   "metadata": {
    "ExecuteTime": {
     "end_time": "2024-03-17T15:20:15.984571Z",
     "start_time": "2024-03-17T15:20:15.733379Z"
    }
   },
   "outputs": [],
   "source": [
    "id_dict = {}\n",
    "for fn in filenames:\n",
    "    this_df = pd.read_csv(csv_path + fn)\n",
    "    year = int(fn.split('_')[0])\n",
    "    \n",
    "    id_list = this_df['player_id'].to_list()\n",
    "    name_list = this_df['player_name'].to_list()\n",
    "    birth_list = [year - age for age in this_df['player_age'].to_list()]\n",
    "    \n",
    "    for i, ID in enumerate(id_list):\n",
    "        name = player_name_convert(name_list[i])\n",
    "        birth_year = birth_list[i]\n",
    "        if ID in id_dict.keys():\n",
    "            if not name in id_dict[ID]['player_name']:\n",
    "                id_dict[ID]['player_name'].append(name)\n",
    "        else:\n",
    "            id_dict[ID] = {'birth_year':birth_year, 'player_name':[name]}"
   ]
  },
  {
   "cell_type": "code",
   "execution_count": 5,
   "id": "56b99da5",
   "metadata": {
    "ExecuteTime": {
     "end_time": "2024-03-17T15:20:16.000194Z",
     "start_time": "2024-03-17T15:20:15.984571Z"
    }
   },
   "outputs": [
    {
     "name": "stdout",
     "output_type": "stream",
     "text": [
      "596847: ['Choi, Ji-Man', 'Choi, Man']\n",
      "640449: ['Frazier, Jackson', 'Frazier, Clint']\n",
      "647336: ['Soroka, Mike', 'Soroka, Michael']\n",
      "641943: ['Palacios, Josh', 'Palacios, Joshua']\n",
      "663738: ['Lynch, Daniel', 'Lynch IV, Daniel']\n",
      "名字真的會變啊！\n"
     ]
    }
   ],
   "source": [
    "for ID in id_dict.keys():\n",
    "    if len(id_dict[ID]['player_name']) > 1:\n",
    "        print(f'{ID}: {id_dict[ID][\"player_name\"]}')\n",
    "print('名字真的會變啊！')"
   ]
  },
  {
   "cell_type": "code",
   "execution_count": 6,
   "id": "d9225e71",
   "metadata": {
    "ExecuteTime": {
     "end_time": "2024-03-17T15:20:16.015817Z",
     "start_time": "2024-03-17T15:20:16.000194Z"
    }
   },
   "outputs": [],
   "source": [
    "output_dict = {'player_id':[], 'player_name':[], 'birth_year':[]}\n",
    "for ID in id_dict.keys():\n",
    "    birth_year = id_dict[ID]['birth_year']\n",
    "    for name in id_dict[ID]['player_name']:\n",
    "        output_dict['player_id'].append(ID)\n",
    "        output_dict['player_name'].append(name)\n",
    "        output_dict['birth_year'].append(birth_year)"
   ]
  },
  {
   "cell_type": "code",
   "execution_count": 7,
   "id": "2d5e90d2",
   "metadata": {
    "ExecuteTime": {
     "end_time": "2024-03-17T15:20:16.031442Z",
     "start_time": "2024-03-17T15:20:16.015817Z"
    }
   },
   "outputs": [],
   "source": [
    "output_df = pd.DataFrame(output_dict)\n",
    "output_df = output_df.sort_values('player_name')\n",
    "output_df.to_csv('player_id_table.csv', index=False)"
   ]
  },
  {
   "cell_type": "code",
   "execution_count": null,
   "id": "e1ec3de9",
   "metadata": {},
   "outputs": [],
   "source": []
  }
 ],
 "metadata": {
  "kernelspec": {
   "display_name": "Python 3 (ipykernel)",
   "language": "python",
   "name": "python3"
  },
  "language_info": {
   "codemirror_mode": {
    "name": "ipython",
    "version": 3
   },
   "file_extension": ".py",
   "mimetype": "text/x-python",
   "name": "python",
   "nbconvert_exporter": "python",
   "pygments_lexer": "ipython3",
   "version": "3.8.16"
  },
  "toc": {
   "base_numbering": 1,
   "nav_menu": {},
   "number_sections": true,
   "sideBar": true,
   "skip_h1_title": true,
   "title_cell": "Table of Contents",
   "title_sidebar": "Contents",
   "toc_cell": true,
   "toc_position": {},
   "toc_section_display": true,
   "toc_window_display": true
  },
  "varInspector": {
   "cols": {
    "lenName": 16,
    "lenType": 16,
    "lenVar": 40
   },
   "kernels_config": {
    "python": {
     "delete_cmd_postfix": "",
     "delete_cmd_prefix": "del ",
     "library": "var_list.py",
     "varRefreshCmd": "print(var_dic_list())"
    },
    "r": {
     "delete_cmd_postfix": ") ",
     "delete_cmd_prefix": "rm(",
     "library": "var_list.r",
     "varRefreshCmd": "cat(var_dic_list()) "
    }
   },
   "types_to_exclude": [
    "module",
    "function",
    "builtin_function_or_method",
    "instance",
    "_Feature"
   ],
   "window_display": false
  }
 },
 "nbformat": 4,
 "nbformat_minor": 5
}

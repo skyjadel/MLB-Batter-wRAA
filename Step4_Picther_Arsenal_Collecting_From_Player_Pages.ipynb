{
 "cells": [
  {
   "cell_type": "markdown",
   "id": "2a02eb27",
   "metadata": {
    "toc": true
   },
   "source": [
    "<h1>Table of Contents<span class=\"tocSkip\"></span></h1>\n",
    "<div class=\"toc\"><ul class=\"toc-item\"></ul></div>"
   ]
  },
  {
   "cell_type": "markdown",
   "id": "54db2d72",
   "metadata": {},
   "source": [
    "注意：因為爬蟲本身有時候沒有正確抓到資料，所以要讀新資料的時候，請多執行這支程式數次，把球員資料補齊"
   ]
  },
  {
   "cell_type": "code",
   "execution_count": 1,
   "id": "eabc3cf9",
   "metadata": {
    "ExecuteTime": {
     "end_time": "2024-03-18T07:30:37.273234Z",
     "start_time": "2024-03-18T07:30:36.821587Z"
    }
   },
   "outputs": [],
   "source": [
    "import PitchType_InfoCollector\n",
    "import pandas as pd\n",
    "import numpy as np\n",
    "import time\n",
    "import os"
   ]
  },
  {
   "cell_type": "code",
   "execution_count": 2,
   "id": "9404f993",
   "metadata": {
    "ExecuteTime": {
     "end_time": "2024-03-18T07:30:37.285258Z",
     "start_time": "2024-03-18T07:30:37.273234Z"
    }
   },
   "outputs": [],
   "source": [
    "csv_file_path = 'MLB_Player_Stats_CSV\\\\'\n",
    "years = range(2017,2024)\n",
    "player_type = 'batter'\n",
    "\n",
    "read_mode = 'continue' #'new' or 'continue'"
   ]
  },
  {
   "cell_type": "raw",
   "id": "876053dc",
   "metadata": {
    "ExecuteTime": {
     "end_time": "2024-03-18T00:29:58.384737Z",
     "start_time": "2024-03-18T00:29:58.353094Z"
    }
   },
   "source": [
    "if player_type == 'pitcher':\n",
    "    #-------------------Load player data----------------------------\n",
    "    dfs = []\n",
    "    for year in years:\n",
    "        csv_file_name = f'{csv_file_path}{year}_{player_type}_arranged.csv'\n",
    "        df = pd.read_csv(csv_file_name)\n",
    "        dfs.append(df)\n",
    "    big_df = pd.concat(dfs, ignore_index = True)\n",
    "    player_ids = list(set(big_df[big_df['pa'] >= 10]['player_id']))\n",
    "\n",
    "    if os.path.exists(f'{csv_file_path}pitch_type_pitcher.csv'):\n",
    "        old_df = pd.read_csv(f'{csv_file_path}pitch_type_pitcher.csv',)\n",
    "        try:\n",
    "            del old_df['Unnamed: 0']\n",
    "        except:\n",
    "            pass\n",
    "        old_player_ids = set(old_df['player_id'])\n",
    "        player_ids = set(player_ids).difference(old_player_ids)\n",
    "\n",
    "    t = len(player_ids)\n",
    "    if os.path.exists(f'{csv_file_path}pitch_type_pitcher.csv'):\n",
    "        dfs = [old_df,]\n",
    "    else:\n",
    "        dfs = []\n",
    "    t0 = time.time()\n",
    "    for i, player_id in enumerate(player_ids):\n",
    "        player_name = big_df[big_df.player_id.eq(player_id)]['player_name'].tolist()[0].replace(' ','').split(',')\n",
    "        last_name = player_name[0]; first_name = player_name[1]\n",
    "        print(f'{i+1}/{t} player_id: {player_id}')\n",
    "        X = PitchType_InfoCollector.pitcher(player_id, first_name, last_name)\n",
    "        if len(X) > 0:\n",
    "            df = pd.DataFrame(X)\n",
    "            dfs.append(df)\n",
    "        if i % 10 == 9:\n",
    "            entire_PA_df = pd.concat(dfs, ignore_index = True)\n",
    "            entire_PA_df.to_csv(f'{csv_file_path}pitch_type_pitcher.csv')\n",
    "        t_this = time.time()\n",
    "        print(f'Process time: {(t_this-t0)/60:.2f} min')\n",
    "\n",
    "    entire_PA_df = pd.concat(dfs, ignore_index = True)\n",
    "    entire_PA_df.to_csv(f'{csv_file_path}pitch_type_pitcher.csv')\n",
    "\n"
   ]
  },
  {
   "cell_type": "markdown",
   "id": "2853389a",
   "metadata": {},
   "source": [
    "對於極少數的球員 (2024.03.18觀測到五個) ，baseball savant 網站欠缺他們的球種進階資料"
   ]
  },
  {
   "cell_type": "code",
   "execution_count": 3,
   "id": "a84c0497",
   "metadata": {
    "ExecuteTime": {
     "end_time": "2024-03-18T07:31:26.067255Z",
     "start_time": "2024-03-18T07:30:37.285258Z"
    }
   },
   "outputs": [
    {
     "name": "stdout",
     "output_type": "stream",
     "text": [
      "There are 41997 rows in the old DF.\n",
      "這次要抓5個球員\n",
      "1/5 player_id: 683232\n",
      "Mears, Nick\n",
      "Process time: 0.33 min\n",
      "2/5 player_id: 502085\n",
      "Robertson, David\n",
      "Process time: 0.52 min\n",
      "3/5 player_id: 622250\n",
      "Sborz, Josh\n",
      "Process time: 0.80 min\n",
      "4/5 player_id: 608597\n",
      "Guzman, Ronald\n",
      "Process time: 0.80 min\n",
      "5/5 player_id: 624507\n",
      "Jones, Ryder\n",
      "Process time: 0.81 min\n"
     ]
    }
   ],
   "source": [
    "#-------------------Load player data----------------------------\n",
    "dfs = []\n",
    "for year in years:\n",
    "    csv_file_name = f'{csv_file_path}{year}_{player_type}_arranged.csv'\n",
    "    df = pd.read_csv(csv_file_name)\n",
    "    dfs.append(df[['player_id', 'player_name']])\n",
    "big_df = pd.concat(dfs, ignore_index = True)\n",
    "player_ids = list(set(big_df['player_id']))\n",
    "\n",
    "if os.path.exists(f'{csv_file_path}pitch_type_{player_type}.csv'):\n",
    "    old_df = pd.read_csv(f'{csv_file_path}pitch_type_{player_type}.csv')\n",
    "    old_player_ids = set(old_df['player_id'])\n",
    "    player_ids = list(set(player_ids).difference(old_player_ids))\n",
    "    print(f'There are {len(old_df)} rows in the old DF.')\n",
    "print(f'這次要抓{len(player_ids)}個球員')\n",
    "\n",
    "t = len(player_ids)\n",
    "if os.path.exists(f'{csv_file_path}pitch_type_pitcher.csv'):\n",
    "    dfs = [old_df,]\n",
    "else:\n",
    "    dfs = []\n",
    "t0 = time.time()\n",
    "for i, player_id in enumerate(player_ids):\n",
    "    player_name = big_df[big_df.player_id.eq(player_id)]['player_name'].tolist()[0].replace(' ','').split(',')\n",
    "    last_name = player_name[0]; first_name = player_name[1]\n",
    "    \n",
    "    print(f'{i+1}/{t} player_id: {player_id}')\n",
    "    if player_type == 'pitcher':\n",
    "        X = PitchType_InfoCollector.pitcher(player_id, first_name, last_name)\n",
    "    elif player_type == 'batter':\n",
    "        X = PitchType_InfoCollector.batter(player_id, first_name, last_name)\n",
    "        \n",
    "    if len(X) > 0:\n",
    "        df = pd.DataFrame(X)\n",
    "        print(f'There are {len(df)} rows in this DF.')\n",
    "        dfs.append(df)\n",
    "    if i % 10 == 9:\n",
    "        entire_PA_df = pd.concat(dfs, ignore_index = True)\n",
    "        print(f'There are {len(entire_PA_df)} rows in the entire DF.')\n",
    "        entire_PA_df.to_csv(f'{csv_file_path}pitch_type_{player_type}.csv', index=False)\n",
    "        \n",
    "    t_this = time.time()\n",
    "    print(f'Process time: {(t_this-t0)/60:.2f} min')\n",
    " "
   ]
  },
  {
   "cell_type": "code",
   "execution_count": 5,
   "id": "c5fb7d02",
   "metadata": {
    "ExecuteTime": {
     "end_time": "2024-03-18T07:32:11.629428Z",
     "start_time": "2024-03-18T07:32:11.347018Z"
    }
   },
   "outputs": [
    {
     "name": "stdout",
     "output_type": "stream",
     "text": [
      "There are 41997 rows in the entire DF.\n"
     ]
    }
   ],
   "source": [
    "entire_PA_df = pd.concat(dfs, ignore_index = True)\n",
    "entire_PA_df.to_csv(f'{csv_file_path}pitch_type_{player_type}.csv', index=False)\n",
    "print(f'There are {len(entire_PA_df)} rows in the entire DF.')"
   ]
  },
  {
   "cell_type": "code",
   "execution_count": null,
   "id": "e19179ed",
   "metadata": {},
   "outputs": [],
   "source": []
  }
 ],
 "metadata": {
  "kernelspec": {
   "display_name": "Python 3 (ipykernel)",
   "language": "python",
   "name": "python3"
  },
  "language_info": {
   "codemirror_mode": {
    "name": "ipython",
    "version": 3
   },
   "file_extension": ".py",
   "mimetype": "text/x-python",
   "name": "python",
   "nbconvert_exporter": "python",
   "pygments_lexer": "ipython3",
   "version": "3.8.16"
  },
  "toc": {
   "base_numbering": 1,
   "nav_menu": {},
   "number_sections": true,
   "sideBar": true,
   "skip_h1_title": true,
   "title_cell": "Table of Contents",
   "title_sidebar": "Contents",
   "toc_cell": true,
   "toc_position": {
    "height": "calc(100% - 180px)",
    "left": "10px",
    "top": "150px",
    "width": "426.667px"
   },
   "toc_section_display": true,
   "toc_window_display": true
  },
  "varInspector": {
   "cols": {
    "lenName": 16,
    "lenType": 16,
    "lenVar": 40
   },
   "kernels_config": {
    "python": {
     "delete_cmd_postfix": "",
     "delete_cmd_prefix": "del ",
     "library": "var_list.py",
     "varRefreshCmd": "print(var_dic_list())"
    },
    "r": {
     "delete_cmd_postfix": ") ",
     "delete_cmd_prefix": "rm(",
     "library": "var_list.r",
     "varRefreshCmd": "cat(var_dic_list()) "
    }
   },
   "types_to_exclude": [
    "module",
    "function",
    "builtin_function_or_method",
    "instance",
    "_Feature"
   ],
   "window_display": false
  }
 },
 "nbformat": 4,
 "nbformat_minor": 5
}
